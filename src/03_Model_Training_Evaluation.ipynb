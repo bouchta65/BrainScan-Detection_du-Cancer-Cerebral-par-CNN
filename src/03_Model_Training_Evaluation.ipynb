{
 "cells": [
  {
   "cell_type": "markdown",
   "id": "e5b3396e",
   "metadata": {},
   "source": [
    "# Entraînement et Évaluation du Modèle\n"
   ]
  },
  {
   "cell_type": "markdown",
   "id": "c15233be",
   "metadata": {},
   "source": [
    "### Choix et optimisation des hyperparamètres : learning rate, epochs et batch size"
   ]
  },
  {
   "cell_type": "code",
   "execution_count": 15,
   "id": "98a16539",
   "metadata": {},
   "outputs": [
    {
     "name": "stderr",
     "output_type": "stream",
     "text": [
      "WARNING:absl:Compiled the loaded model, but the compiled metrics have yet to be built. `model.compile_metrics` will be empty until you train or evaluate the model.\n"
     ]
    }
   ],
   "source": [
    "from tensorflow.keras.optimizers import Adam\n",
    "from tensorflow.keras.models import load_model\n",
    "import numpy as np\n",
    "\n",
    "x_train = np.load('../data/processed/x_train.npy')\n",
    "x_test  = np.load('../data/processed/x_test.npy')\n",
    "y_train = np.load('../data/processed/y_train.npy')\n",
    "y_test  = np.load('../data/processed/y_test.npy')\n",
    "\n",
    "model =   load_model(\"../models/my_cnn_model.h5\")\n",
    "\n",
    "\n",
    "learning_rate  = 0.001   # valeur de départ typique\n",
    "epochs  = 20          # nombre de passages sur l'ensemble des données\n",
    "batch_size  = 32            # nombre d'images traitées avant chaque mise à jour des poids\n",
    "\n",
    "\n",
    "model.compile(\n",
    "    optimizer=Adam(learning_rate=learning_rate),\n",
    "    loss='categorical_crossentropy',\n",
    "    metrics=['accuracy']\n",
    ")\n"
   ]
  },
  {
   "cell_type": "markdown",
   "id": "bbb1eebc",
   "metadata": {},
   "source": [
    "### Enregistrement du meilleur modèle CNN avec ModelCheckpoint et entraînement"
   ]
  },
  {
   "cell_type": "code",
   "execution_count": 16,
   "id": "a034634f",
   "metadata": {},
   "outputs": [
    {
     "name": "stdout",
     "output_type": "stream",
     "text": [
      "Epoch 1/20\n",
      "\u001b[1m160/160\u001b[0m \u001b[32m━━━━━━━━━━━━━━━━━━━━\u001b[0m\u001b[37m\u001b[0m \u001b[1m0s\u001b[0m 291ms/step - accuracy: 0.5004 - loss: 1.1468\n",
      "Epoch 1: val_accuracy improved from None to 0.75547, saving model to ../models/best_cnn_model.h5\n"
     ]
    },
    {
     "name": "stderr",
     "output_type": "stream",
     "text": [
      "WARNING:absl:You are saving your model as an HDF5 file via `model.save()` or `keras.saving.save_model(model)`. This file format is considered legacy. We recommend using instead the native Keras format, e.g. `model.save('my_model.keras')` or `keras.saving.save_model(model, 'my_model.keras')`. \n"
     ]
    },
    {
     "name": "stdout",
     "output_type": "stream",
     "text": [
      "\u001b[1m160/160\u001b[0m \u001b[32m━━━━━━━━━━━━━━━━━━━━\u001b[0m\u001b[37m\u001b[0m \u001b[1m62s\u001b[0m 362ms/step - accuracy: 0.6117 - loss: 0.9119 - val_accuracy: 0.7555 - val_loss: 0.6336\n",
      "Epoch 2/20\n",
      "\u001b[1m160/160\u001b[0m \u001b[32m━━━━━━━━━━━━━━━━━━━━\u001b[0m\u001b[37m\u001b[0m \u001b[1m0s\u001b[0m 316ms/step - accuracy: 0.7601 - loss: 0.6007\n",
      "Epoch 2: val_accuracy improved from 0.75547 to 0.79609, saving model to ../models/best_cnn_model.h5\n"
     ]
    },
    {
     "name": "stderr",
     "output_type": "stream",
     "text": [
      "WARNING:absl:You are saving your model as an HDF5 file via `model.save()` or `keras.saving.save_model(model)`. This file format is considered legacy. We recommend using instead the native Keras format, e.g. `model.save('my_model.keras')` or `keras.saving.save_model(model, 'my_model.keras')`. \n"
     ]
    },
    {
     "name": "stdout",
     "output_type": "stream",
     "text": [
      "\u001b[1m160/160\u001b[0m \u001b[32m━━━━━━━━━━━━━━━━━━━━\u001b[0m\u001b[37m\u001b[0m \u001b[1m61s\u001b[0m 379ms/step - accuracy: 0.7637 - loss: 0.5874 - val_accuracy: 0.7961 - val_loss: 0.4679\n",
      "Epoch 3/20\n",
      "\u001b[1m160/160\u001b[0m \u001b[32m━━━━━━━━━━━━━━━━━━━━\u001b[0m\u001b[37m\u001b[0m \u001b[1m0s\u001b[0m 325ms/step - accuracy: 0.8013 - loss: 0.4819\n",
      "Epoch 3: val_accuracy improved from 0.79609 to 0.84688, saving model to ../models/best_cnn_model.h5\n"
     ]
    },
    {
     "name": "stderr",
     "output_type": "stream",
     "text": [
      "WARNING:absl:You are saving your model as an HDF5 file via `model.save()` or `keras.saving.save_model(model)`. This file format is considered legacy. We recommend using instead the native Keras format, e.g. `model.save('my_model.keras')` or `keras.saving.save_model(model, 'my_model.keras')`. \n"
     ]
    },
    {
     "name": "stdout",
     "output_type": "stream",
     "text": [
      "\u001b[1m160/160\u001b[0m \u001b[32m━━━━━━━━━━━━━━━━━━━━\u001b[0m\u001b[37m\u001b[0m \u001b[1m84s\u001b[0m 389ms/step - accuracy: 0.8053 - loss: 0.4694 - val_accuracy: 0.8469 - val_loss: 0.4134\n",
      "Epoch 4/20\n",
      "\u001b[1m160/160\u001b[0m \u001b[32m━━━━━━━━━━━━━━━━━━━━\u001b[0m\u001b[37m\u001b[0m \u001b[1m0s\u001b[0m 356ms/step - accuracy: 0.8446 - loss: 0.3825\n",
      "Epoch 4: val_accuracy did not improve from 0.84688\n",
      "\u001b[1m160/160\u001b[0m \u001b[32m━━━━━━━━━━━━━━━━━━━━\u001b[0m\u001b[37m\u001b[0m \u001b[1m61s\u001b[0m 380ms/step - accuracy: 0.8438 - loss: 0.3860 - val_accuracy: 0.8391 - val_loss: 0.3693\n",
      "Epoch 5/20\n",
      "\u001b[1m160/160\u001b[0m \u001b[32m━━━━━━━━━━━━━━━━━━━━\u001b[0m\u001b[37m\u001b[0m \u001b[1m0s\u001b[0m 342ms/step - accuracy: 0.8907 - loss: 0.2777\n",
      "Epoch 5: val_accuracy improved from 0.84688 to 0.86875, saving model to ../models/best_cnn_model.h5\n"
     ]
    },
    {
     "name": "stderr",
     "output_type": "stream",
     "text": [
      "WARNING:absl:You are saving your model as an HDF5 file via `model.save()` or `keras.saving.save_model(model)`. This file format is considered legacy. We recommend using instead the native Keras format, e.g. `model.save('my_model.keras')` or `keras.saving.save_model(model, 'my_model.keras')`. \n"
     ]
    },
    {
     "name": "stdout",
     "output_type": "stream",
     "text": [
      "\u001b[1m160/160\u001b[0m \u001b[32m━━━━━━━━━━━━━━━━━━━━\u001b[0m\u001b[37m\u001b[0m \u001b[1m65s\u001b[0m 406ms/step - accuracy: 0.8846 - loss: 0.2868 - val_accuracy: 0.8687 - val_loss: 0.3652\n",
      "Epoch 6/20\n",
      "\u001b[1m160/160\u001b[0m \u001b[32m━━━━━━━━━━━━━━━━━━━━\u001b[0m\u001b[37m\u001b[0m \u001b[1m0s\u001b[0m 345ms/step - accuracy: 0.9091 - loss: 0.2417\n",
      "Epoch 6: val_accuracy improved from 0.86875 to 0.88672, saving model to ../models/best_cnn_model.h5\n"
     ]
    },
    {
     "name": "stderr",
     "output_type": "stream",
     "text": [
      "WARNING:absl:You are saving your model as an HDF5 file via `model.save()` or `keras.saving.save_model(model)`. This file format is considered legacy. We recommend using instead the native Keras format, e.g. `model.save('my_model.keras')` or `keras.saving.save_model(model, 'my_model.keras')`. \n"
     ]
    },
    {
     "name": "stdout",
     "output_type": "stream",
     "text": [
      "\u001b[1m160/160\u001b[0m \u001b[32m━━━━━━━━━━━━━━━━━━━━\u001b[0m\u001b[37m\u001b[0m \u001b[1m65s\u001b[0m 408ms/step - accuracy: 0.9100 - loss: 0.2384 - val_accuracy: 0.8867 - val_loss: 0.3432\n",
      "Epoch 7/20\n",
      "\u001b[1m160/160\u001b[0m \u001b[32m━━━━━━━━━━━━━━━━━━━━\u001b[0m\u001b[37m\u001b[0m \u001b[1m0s\u001b[0m 350ms/step - accuracy: 0.9209 - loss: 0.2028\n",
      "Epoch 7: val_accuracy improved from 0.88672 to 0.88828, saving model to ../models/best_cnn_model.h5\n"
     ]
    },
    {
     "name": "stderr",
     "output_type": "stream",
     "text": [
      "WARNING:absl:You are saving your model as an HDF5 file via `model.save()` or `keras.saving.save_model(model)`. This file format is considered legacy. We recommend using instead the native Keras format, e.g. `model.save('my_model.keras')` or `keras.saving.save_model(model, 'my_model.keras')`. \n"
     ]
    },
    {
     "name": "stdout",
     "output_type": "stream",
     "text": [
      "\u001b[1m160/160\u001b[0m \u001b[32m━━━━━━━━━━━━━━━━━━━━\u001b[0m\u001b[37m\u001b[0m \u001b[1m66s\u001b[0m 415ms/step - accuracy: 0.9209 - loss: 0.2038 - val_accuracy: 0.8883 - val_loss: 0.3236\n",
      "Epoch 8/20\n",
      "\u001b[1m160/160\u001b[0m \u001b[32m━━━━━━━━━━━━━━━━━━━━\u001b[0m\u001b[37m\u001b[0m \u001b[1m0s\u001b[0m 339ms/step - accuracy: 0.9298 - loss: 0.1766\n",
      "Epoch 8: val_accuracy improved from 0.88828 to 0.89844, saving model to ../models/best_cnn_model.h5\n"
     ]
    },
    {
     "name": "stderr",
     "output_type": "stream",
     "text": [
      "WARNING:absl:You are saving your model as an HDF5 file via `model.save()` or `keras.saving.save_model(model)`. This file format is considered legacy. We recommend using instead the native Keras format, e.g. `model.save('my_model.keras')` or `keras.saving.save_model(model, 'my_model.keras')`. \n"
     ]
    },
    {
     "name": "stdout",
     "output_type": "stream",
     "text": [
      "\u001b[1m160/160\u001b[0m \u001b[32m━━━━━━━━━━━━━━━━━━━━\u001b[0m\u001b[37m\u001b[0m \u001b[1m64s\u001b[0m 402ms/step - accuracy: 0.9252 - loss: 0.1890 - val_accuracy: 0.8984 - val_loss: 0.3075\n",
      "Epoch 9/20\n",
      "\u001b[1m160/160\u001b[0m \u001b[32m━━━━━━━━━━━━━━━━━━━━\u001b[0m\u001b[37m\u001b[0m \u001b[1m0s\u001b[0m 316ms/step - accuracy: 0.9466 - loss: 0.1394\n",
      "Epoch 9: val_accuracy improved from 0.89844 to 0.90547, saving model to ../models/best_cnn_model.h5\n"
     ]
    },
    {
     "name": "stderr",
     "output_type": "stream",
     "text": [
      "WARNING:absl:You are saving your model as an HDF5 file via `model.save()` or `keras.saving.save_model(model)`. This file format is considered legacy. We recommend using instead the native Keras format, e.g. `model.save('my_model.keras')` or `keras.saving.save_model(model, 'my_model.keras')`. \n"
     ]
    },
    {
     "name": "stdout",
     "output_type": "stream",
     "text": [
      "\u001b[1m160/160\u001b[0m \u001b[32m━━━━━━━━━━━━━━━━━━━━\u001b[0m\u001b[37m\u001b[0m \u001b[1m78s\u001b[0m 378ms/step - accuracy: 0.9494 - loss: 0.1313 - val_accuracy: 0.9055 - val_loss: 0.3711\n",
      "Epoch 10/20\n",
      "\u001b[1m160/160\u001b[0m \u001b[32m━━━━━━━━━━━━━━━━━━━━\u001b[0m\u001b[37m\u001b[0m \u001b[1m0s\u001b[0m 318ms/step - accuracy: 0.9525 - loss: 0.1248\n",
      "Epoch 10: val_accuracy improved from 0.90547 to 0.91875, saving model to ../models/best_cnn_model.h5\n"
     ]
    },
    {
     "name": "stderr",
     "output_type": "stream",
     "text": [
      "WARNING:absl:You are saving your model as an HDF5 file via `model.save()` or `keras.saving.save_model(model)`. This file format is considered legacy. We recommend using instead the native Keras format, e.g. `model.save('my_model.keras')` or `keras.saving.save_model(model, 'my_model.keras')`. \n"
     ]
    },
    {
     "name": "stdout",
     "output_type": "stream",
     "text": [
      "\u001b[1m160/160\u001b[0m \u001b[32m━━━━━━━━━━━━━━━━━━━━\u001b[0m\u001b[37m\u001b[0m \u001b[1m83s\u001b[0m 382ms/step - accuracy: 0.9496 - loss: 0.1247 - val_accuracy: 0.9187 - val_loss: 0.3233\n",
      "Epoch 11/20\n",
      "\u001b[1m160/160\u001b[0m \u001b[32m━━━━━━━━━━━━━━━━━━━━\u001b[0m\u001b[37m\u001b[0m \u001b[1m0s\u001b[0m 310ms/step - accuracy: 0.9587 - loss: 0.0973\n",
      "Epoch 11: val_accuracy did not improve from 0.91875\n",
      "\u001b[1m160/160\u001b[0m \u001b[32m━━━━━━━━━━━━━━━━━━━━\u001b[0m\u001b[37m\u001b[0m \u001b[1m74s\u001b[0m 333ms/step - accuracy: 0.9617 - loss: 0.1001 - val_accuracy: 0.9039 - val_loss: 0.3507\n",
      "Epoch 12/20\n",
      "\u001b[1m160/160\u001b[0m \u001b[32m━━━━━━━━━━━━━━━━━━━━\u001b[0m\u001b[37m\u001b[0m \u001b[1m0s\u001b[0m 343ms/step - accuracy: 0.9690 - loss: 0.0844\n",
      "Epoch 12: val_accuracy did not improve from 0.91875\n",
      "\u001b[1m160/160\u001b[0m \u001b[32m━━━━━━━━━━━━━━━━━━━━\u001b[0m\u001b[37m\u001b[0m \u001b[1m59s\u001b[0m 366ms/step - accuracy: 0.9660 - loss: 0.0924 - val_accuracy: 0.9117 - val_loss: 0.3293\n",
      "Epoch 13/20\n",
      "\u001b[1m160/160\u001b[0m \u001b[32m━━━━━━━━━━━━━━━━━━━━\u001b[0m\u001b[37m\u001b[0m \u001b[1m0s\u001b[0m 313ms/step - accuracy: 0.9674 - loss: 0.0917\n",
      "Epoch 13: val_accuracy did not improve from 0.91875\n",
      "\u001b[1m160/160\u001b[0m \u001b[32m━━━━━━━━━━━━━━━━━━━━\u001b[0m\u001b[37m\u001b[0m \u001b[1m77s\u001b[0m 336ms/step - accuracy: 0.9686 - loss: 0.0872 - val_accuracy: 0.9148 - val_loss: 0.3814\n",
      "Epoch 14/20\n",
      "\u001b[1m160/160\u001b[0m \u001b[32m━━━━━━━━━━━━━━━━━━━━\u001b[0m\u001b[37m\u001b[0m \u001b[1m0s\u001b[0m 343ms/step - accuracy: 0.9708 - loss: 0.0658\n",
      "Epoch 14: val_accuracy did not improve from 0.91875\n",
      "\u001b[1m160/160\u001b[0m \u001b[32m━━━━━━━━━━━━━━━━━━━━\u001b[0m\u001b[37m\u001b[0m \u001b[1m59s\u001b[0m 367ms/step - accuracy: 0.9715 - loss: 0.0709 - val_accuracy: 0.8938 - val_loss: 0.4284\n",
      "Epoch 15/20\n",
      "\u001b[1m160/160\u001b[0m \u001b[32m━━━━━━━━━━━━━━━━━━━━\u001b[0m\u001b[37m\u001b[0m \u001b[1m0s\u001b[0m 341ms/step - accuracy: 0.9709 - loss: 0.0679\n",
      "Epoch 15: val_accuracy did not improve from 0.91875\n",
      "\u001b[1m160/160\u001b[0m \u001b[32m━━━━━━━━━━━━━━━━━━━━\u001b[0m\u001b[37m\u001b[0m \u001b[1m58s\u001b[0m 364ms/step - accuracy: 0.9725 - loss: 0.0697 - val_accuracy: 0.9187 - val_loss: 0.4237\n",
      "Epoch 16/20\n",
      "\u001b[1m160/160\u001b[0m \u001b[32m━━━━━━━━━━━━━━━━━━━━\u001b[0m\u001b[37m\u001b[0m \u001b[1m0s\u001b[0m 348ms/step - accuracy: 0.9748 - loss: 0.0717\n",
      "Epoch 16: val_accuracy did not improve from 0.91875\n",
      "\u001b[1m160/160\u001b[0m \u001b[32m━━━━━━━━━━━━━━━━━━━━\u001b[0m\u001b[37m\u001b[0m \u001b[1m60s\u001b[0m 372ms/step - accuracy: 0.9719 - loss: 0.0695 - val_accuracy: 0.9070 - val_loss: 0.3749\n",
      "Epoch 17/20\n",
      "\u001b[1m160/160\u001b[0m \u001b[32m━━━━━━━━━━━━━━━━━━━━\u001b[0m\u001b[37m\u001b[0m \u001b[1m0s\u001b[0m 348ms/step - accuracy: 0.9760 - loss: 0.0603\n",
      "Epoch 17: val_accuracy did not improve from 0.91875\n",
      "\u001b[1m160/160\u001b[0m \u001b[32m━━━━━━━━━━━━━━━━━━━━\u001b[0m\u001b[37m\u001b[0m \u001b[1m60s\u001b[0m 372ms/step - accuracy: 0.9770 - loss: 0.0600 - val_accuracy: 0.9148 - val_loss: 0.3714\n",
      "Epoch 18/20\n",
      "\u001b[1m160/160\u001b[0m \u001b[32m━━━━━━━━━━━━━━━━━━━━\u001b[0m\u001b[37m\u001b[0m \u001b[1m0s\u001b[0m 347ms/step - accuracy: 0.9802 - loss: 0.0508\n",
      "Epoch 18: val_accuracy did not improve from 0.91875\n",
      "\u001b[1m160/160\u001b[0m \u001b[32m━━━━━━━━━━━━━━━━━━━━\u001b[0m\u001b[37m\u001b[0m \u001b[1m59s\u001b[0m 371ms/step - accuracy: 0.9809 - loss: 0.0487 - val_accuracy: 0.9117 - val_loss: 0.4151\n",
      "Epoch 19/20\n",
      "\u001b[1m160/160\u001b[0m \u001b[32m━━━━━━━━━━━━━━━━━━━━\u001b[0m\u001b[37m\u001b[0m \u001b[1m0s\u001b[0m 341ms/step - accuracy: 0.9855 - loss: 0.0397\n",
      "Epoch 19: val_accuracy did not improve from 0.91875\n",
      "\u001b[1m160/160\u001b[0m \u001b[32m━━━━━━━━━━━━━━━━━━━━\u001b[0m\u001b[37m\u001b[0m \u001b[1m58s\u001b[0m 365ms/step - accuracy: 0.9801 - loss: 0.0546 - val_accuracy: 0.9156 - val_loss: 0.3443\n",
      "Epoch 20/20\n",
      "\u001b[1m160/160\u001b[0m \u001b[32m━━━━━━━━━━━━━━━━━━━━\u001b[0m\u001b[37m\u001b[0m \u001b[1m0s\u001b[0m 338ms/step - accuracy: 0.9802 - loss: 0.0553\n",
      "Epoch 20: val_accuracy did not improve from 0.91875\n",
      "\u001b[1m160/160\u001b[0m \u001b[32m━━━━━━━━━━━━━━━━━━━━\u001b[0m\u001b[37m\u001b[0m \u001b[1m58s\u001b[0m 361ms/step - accuracy: 0.9809 - loss: 0.0542 - val_accuracy: 0.9156 - val_loss: 0.4201\n"
     ]
    }
   ],
   "source": [
    "from tensorflow.keras.callbacks import ModelCheckpoint\n",
    "\n",
    "checkpoint = ModelCheckpoint(\n",
    "    \"../models/best_cnn_model.h5\",  \n",
    "    monitor=\"val_accuracy\",      \n",
    "    save_best_only=True,       \n",
    "    mode=\"max\",\n",
    "    verbose=1\n",
    ")\n",
    "\n",
    "history = model.fit(\n",
    "    x_train, y_train,\n",
    "    epochs=epochs,\n",
    "    batch_size=batch_size,\n",
    "    validation_split=0.2,\n",
    "    callbacks=[checkpoint]\n",
    ")"
   ]
  }
 ],
 "metadata": {
  "kernelspec": {
   "display_name": "Python 3",
   "language": "python",
   "name": "python3"
  },
  "language_info": {
   "codemirror_mode": {
    "name": "ipython",
    "version": 3
   },
   "file_extension": ".py",
   "mimetype": "text/x-python",
   "name": "python",
   "nbconvert_exporter": "python",
   "pygments_lexer": "ipython3",
   "version": "3.13.6"
  }
 },
 "nbformat": 4,
 "nbformat_minor": 5
}
