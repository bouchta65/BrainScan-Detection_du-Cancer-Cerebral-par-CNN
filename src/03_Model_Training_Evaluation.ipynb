{
 "cells": [
  {
   "cell_type": "markdown",
   "id": "e5b3396e",
   "metadata": {},
   "source": [
    "# Entraînement et Évaluation du Modèle\n"
   ]
  },
  {
   "cell_type": "markdown",
   "id": "c15233be",
   "metadata": {},
   "source": [
    "### Choix et optimisation des hyperparamètres : learning rate, epochs et batch size"
   ]
  },
  {
   "cell_type": "code",
   "execution_count": 15,
   "id": "98a16539",
   "metadata": {},
   "outputs": [
    {
     "name": "stderr",
     "output_type": "stream",
     "text": [
      "WARNING:absl:Compiled the loaded model, but the compiled metrics have yet to be built. `model.compile_metrics` will be empty until you train or evaluate the model.\n"
     ]
    }
   ],
   "source": [
    "from tensorflow.keras.optimizers import Adam\n",
    "from tensorflow.keras.models import load_model\n",
    "import numpy as np\n",
    "\n",
    "x_train = np.load('../data/processed/x_train.npy')\n",
    "x_test  = np.load('../data/processed/x_test.npy')\n",
    "y_train = np.load('../data/processed/y_train.npy')\n",
    "y_test  = np.load('../data/processed/y_test.npy')\n",
    "\n",
    "model =   load_model(\"../models/my_cnn_model.h5\")\n",
    "\n",
    "\n",
    "learning_rate  = 0.001   # valeur de départ typique\n",
    "epochs  = 20          # nombre de passages sur l'ensemble des données\n",
    "batch_size  = 32            # nombre d'images traitées avant chaque mise à jour des poids\n",
    "\n",
    "\n",
    "model.compile(\n",
    "    optimizer=Adam(learning_rate=learning_rate),\n",
    "    loss='categorical_crossentropy',\n",
    "    metrics=['accuracy']\n",
    ")\n"
   ]
  }
 ],
 "metadata": {
  "kernelspec": {
   "display_name": "Python 3",
   "language": "python",
   "name": "python3"
  },
  "language_info": {
   "codemirror_mode": {
    "name": "ipython",
    "version": 3
   },
   "file_extension": ".py",
   "mimetype": "text/x-python",
   "name": "python",
   "nbconvert_exporter": "python",
   "pygments_lexer": "ipython3",
   "version": "3.13.6"
  }
 },
 "nbformat": 4,
 "nbformat_minor": 5
}
